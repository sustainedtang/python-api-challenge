{
 "cells": [
  {
   "cell_type": "markdown",
   "metadata": {},
   "source": [
    "# VacationPy\n",
    "----\n",
    "\n",
    "#### Note\n",
    "* Keep an eye on your API usage. Use https://developers.google.com/maps/reporting/gmp-reporting as reference for how to monitor your usage and billing.\n",
    "\n",
    "* Instructions have been included for each segment. You do not have to follow them exactly, but they are included to help you think through the steps."
   ]
  },
  {
   "cell_type": "code",
   "execution_count": 2,
   "metadata": {},
   "outputs": [],
   "source": [
    "# Dependencies and Setup\n",
    "import matplotlib.pyplot as plt\n",
    "import pandas as pd\n",
    "import numpy as np\n",
    "import requests\n",
    "import gmaps\n",
    "import os\n",
    "\n",
    "# Import API key\n",
    "from config import g_key"
   ]
  },
  {
   "cell_type": "markdown",
   "metadata": {},
   "source": [
    "### Store Part I results into DataFrame\n",
    "* Load the csv exported in Part I to a DataFrame"
   ]
  },
  {
   "cell_type": "code",
   "execution_count": 23,
   "metadata": {},
   "outputs": [
    {
     "output_type": "execute_result",
     "data": {
      "text/plain": [
       "            City Country      Lat       Lng  Max Temp  Humidity  Cloudiness  \\\n",
       "0        Qaanaaq      GL  77.4840  -69.3632     22.28        83         100   \n",
       "1    Provideniya      RU  64.3833 -173.3000     40.23        57          81   \n",
       "2           Asău      RO  46.4333   26.4000     37.99        70          38   \n",
       "3       Djambala      CG  -2.5447   14.7533     69.76        91          93   \n",
       "4         Nemuro      JP  43.3236  145.5750     39.83        81         100   \n",
       "..           ...     ...      ...       ...       ...       ...         ...   \n",
       "568       Banjar      ID  -8.1900  114.9675     77.00        83          20   \n",
       "569      Fremont      US  37.5483 -121.9886     66.99        55           1   \n",
       "570      Kadirli      TR  37.3739   36.0961     66.00        74          93   \n",
       "571      Larsnes      NO  62.2028    5.5773     35.01        85          85   \n",
       "572      Pitimbu      BR  -7.4706  -34.8086     80.60        83          40   \n",
       "\n",
       "     Wind Speed        Date  \n",
       "0          4.63  1619213770  \n",
       "1          4.12  1619213805  \n",
       "2          2.98  1619213866  \n",
       "3          2.15  1619213866  \n",
       "4         15.77  1619213837  \n",
       "..          ...         ...  \n",
       "568        3.44  1619214085  \n",
       "569       12.66  1619214086  \n",
       "570        4.79  1619214086  \n",
       "571        1.01  1619214086  \n",
       "572        6.91  1619214087  \n",
       "\n",
       "[573 rows x 9 columns]"
      ],
      "text/html": "<div>\n<style scoped>\n    .dataframe tbody tr th:only-of-type {\n        vertical-align: middle;\n    }\n\n    .dataframe tbody tr th {\n        vertical-align: top;\n    }\n\n    .dataframe thead th {\n        text-align: right;\n    }\n</style>\n<table border=\"1\" class=\"dataframe\">\n  <thead>\n    <tr style=\"text-align: right;\">\n      <th></th>\n      <th>City</th>\n      <th>Country</th>\n      <th>Lat</th>\n      <th>Lng</th>\n      <th>Max Temp</th>\n      <th>Humidity</th>\n      <th>Cloudiness</th>\n      <th>Wind Speed</th>\n      <th>Date</th>\n    </tr>\n  </thead>\n  <tbody>\n    <tr>\n      <th>0</th>\n      <td>Qaanaaq</td>\n      <td>GL</td>\n      <td>77.4840</td>\n      <td>-69.3632</td>\n      <td>22.28</td>\n      <td>83</td>\n      <td>100</td>\n      <td>4.63</td>\n      <td>1619213770</td>\n    </tr>\n    <tr>\n      <th>1</th>\n      <td>Provideniya</td>\n      <td>RU</td>\n      <td>64.3833</td>\n      <td>-173.3000</td>\n      <td>40.23</td>\n      <td>57</td>\n      <td>81</td>\n      <td>4.12</td>\n      <td>1619213805</td>\n    </tr>\n    <tr>\n      <th>2</th>\n      <td>Asău</td>\n      <td>RO</td>\n      <td>46.4333</td>\n      <td>26.4000</td>\n      <td>37.99</td>\n      <td>70</td>\n      <td>38</td>\n      <td>2.98</td>\n      <td>1619213866</td>\n    </tr>\n    <tr>\n      <th>3</th>\n      <td>Djambala</td>\n      <td>CG</td>\n      <td>-2.5447</td>\n      <td>14.7533</td>\n      <td>69.76</td>\n      <td>91</td>\n      <td>93</td>\n      <td>2.15</td>\n      <td>1619213866</td>\n    </tr>\n    <tr>\n      <th>4</th>\n      <td>Nemuro</td>\n      <td>JP</td>\n      <td>43.3236</td>\n      <td>145.5750</td>\n      <td>39.83</td>\n      <td>81</td>\n      <td>100</td>\n      <td>15.77</td>\n      <td>1619213837</td>\n    </tr>\n    <tr>\n      <th>...</th>\n      <td>...</td>\n      <td>...</td>\n      <td>...</td>\n      <td>...</td>\n      <td>...</td>\n      <td>...</td>\n      <td>...</td>\n      <td>...</td>\n      <td>...</td>\n    </tr>\n    <tr>\n      <th>568</th>\n      <td>Banjar</td>\n      <td>ID</td>\n      <td>-8.1900</td>\n      <td>114.9675</td>\n      <td>77.00</td>\n      <td>83</td>\n      <td>20</td>\n      <td>3.44</td>\n      <td>1619214085</td>\n    </tr>\n    <tr>\n      <th>569</th>\n      <td>Fremont</td>\n      <td>US</td>\n      <td>37.5483</td>\n      <td>-121.9886</td>\n      <td>66.99</td>\n      <td>55</td>\n      <td>1</td>\n      <td>12.66</td>\n      <td>1619214086</td>\n    </tr>\n    <tr>\n      <th>570</th>\n      <td>Kadirli</td>\n      <td>TR</td>\n      <td>37.3739</td>\n      <td>36.0961</td>\n      <td>66.00</td>\n      <td>74</td>\n      <td>93</td>\n      <td>4.79</td>\n      <td>1619214086</td>\n    </tr>\n    <tr>\n      <th>571</th>\n      <td>Larsnes</td>\n      <td>NO</td>\n      <td>62.2028</td>\n      <td>5.5773</td>\n      <td>35.01</td>\n      <td>85</td>\n      <td>85</td>\n      <td>1.01</td>\n      <td>1619214086</td>\n    </tr>\n    <tr>\n      <th>572</th>\n      <td>Pitimbu</td>\n      <td>BR</td>\n      <td>-7.4706</td>\n      <td>-34.8086</td>\n      <td>80.60</td>\n      <td>83</td>\n      <td>40</td>\n      <td>6.91</td>\n      <td>1619214087</td>\n    </tr>\n  </tbody>\n</table>\n<p>573 rows × 9 columns</p>\n</div>"
     },
     "metadata": {},
     "execution_count": 23
    }
   ],
   "source": [
    "#Import CSV\n",
    "weather_df = pd.read_csv(\"../output_data/WeatherData.csv\")\n",
    "#Drop NaN values\n",
    "weather_df.dropna(inplace=True)\n",
    "weather_df.head(None)"
   ]
  },
  {
   "cell_type": "markdown",
   "metadata": {},
   "source": [
    "### Humidity Heatmap\n",
    "* Configure gmaps.\n",
    "* Use the Lat and Lng as locations and Humidity as the weight.\n",
    "* Add Heatmap layer to map."
   ]
  },
  {
   "cell_type": "code",
   "execution_count": 26,
   "metadata": {},
   "outputs": [],
   "source": [
    "#Access maps with API key\n",
    "gmaps.configure(api_key=g_key)\n",
    "\n",
    "locations = weather_df[[\"Lat\", \"Lng\"]]\n",
    "humid = weather_df[\"Humidity\"].astype(float)"
   ]
  },
  {
   "cell_type": "code",
   "execution_count": 27,
   "metadata": {},
   "outputs": [
    {
     "output_type": "display_data",
     "data": {
      "text/plain": "Figure(layout=FigureLayout(height='420px'))",
      "application/vnd.jupyter.widget-view+json": {
       "version_major": 2,
       "version_minor": 0,
       "model_id": "7def40efad01436299837c5da2c942ed"
      }
     },
     "metadata": {}
    }
   ],
   "source": [
    "#Plot Heatmap\n",
    "fig = gmaps.figure()\n",
    "#Create Heatlayer\n",
    "heat_layer = gmaps.heatmap_layer(locations, humid, dissipating=False, max_intensity=10, point_radius=1)\n",
    "\n",
    "#Add layer\n",
    "fig.add_layer(heat_layer)\n",
    "\n",
    "fig\n",
    "\n"
   ]
  },
  {
   "cell_type": "markdown",
   "metadata": {},
   "source": [
    "### Create new DataFrame fitting weather criteria\n",
    "* Narrow down the cities to fit weather conditions.\n",
    "* Drop any rows will null values.\n",
    "* A max temperature lower than 80 degrees but higher than 70.\n",
    "\n",
    "* Wind speed less than 10 mph.\n",
    "\n",
    "* <= 25 cloudiness.\n",
    "\n",
    "* Drop any rows that don't contain all three conditions. You want to be sure the weather is ideal."
   ]
  },
  {
   "cell_type": "code",
   "execution_count": 45,
   "metadata": {},
   "outputs": [
    {
     "output_type": "execute_result",
     "data": {
      "text/plain": [
       "                         City Country      Lat       Lng  Max Temp  Humidity  \\\n",
       "6                   Hong Kong      HK  22.2855  114.1577     78.01        87   \n",
       "22                     Sinjai      ID  -5.1241  120.2530     73.29        91   \n",
       "62                Nova Viçosa      BR -17.8919  -39.3719     75.56        82   \n",
       "69                  Morondava      MG -20.2833   44.2833     75.09        82   \n",
       "79                    Mataram      ID  -8.5833  116.1167     73.40        94   \n",
       "125                    Najrān      SA  17.4924   44.1277     75.20        22   \n",
       "158                    Jardim      BR -21.4803  -56.1381     79.20        41   \n",
       "182                  Dambulla      LK   7.8600   80.6517     73.17        88   \n",
       "204                 Abu Kamal      SY  34.4506   40.9171     75.85        17   \n",
       "205                 Dalbandin      PK  28.8947   64.4101     76.60         8   \n",
       "235             Mar del Plata      AR -38.0023  -57.5575     71.60        78   \n",
       "312                    Maceió      BR  -9.6658  -35.7353     78.80        83   \n",
       "341              Kuliyapitiya      LK   7.4688   80.0401     78.80        94   \n",
       "365                  Kalmunai      LK   7.4167   81.8167     79.74        81   \n",
       "377                 Singaraja      ID  -8.1120  115.0882     76.60        70   \n",
       "379             Kota Kinabalu      MY   5.9749  116.0724     77.00        94   \n",
       "398         São João da Barra      BR -21.6403  -41.0511     77.00        65   \n",
       "402                    Dayong      CN  25.0209  118.2898     71.60        73   \n",
       "405                Itapirapuã      BR -15.8233  -50.6133     72.05        51   \n",
       "424                 Pringsewu      ID  -5.3582  104.9744     71.65        95   \n",
       "430                   Vidalia      US  32.2177  -82.4135     73.40        27   \n",
       "437                   Bhakkar      PK  31.6253   71.0657     72.93        32   \n",
       "451  São José da Coroa Grande      BR  -8.8978  -35.1478     78.98        79   \n",
       "452                 Madhubani      IN  26.3667   86.0833     78.30        23   \n",
       "483                    Beloha      MG -25.1667   45.0500     70.34        76   \n",
       "517                    Nushki      PK  29.5542   66.0215     73.35        15   \n",
       "536                Mossamedes      AO -15.1961   12.1522     78.22        77   \n",
       "538                  Belmonte      BR -15.8631  -38.8828     78.80        73   \n",
       "539                  Chilmāri      BD  25.5559   89.6715     77.74        35   \n",
       "557                     Tigre      AR -34.4260  -58.5796     75.00        68   \n",
       "568                    Banjar      ID  -8.1900  114.9675     77.00        83   \n",
       "\n",
       "     Cloudiness  Wind Speed        Date  \n",
       "6            20        3.00  1619213704  \n",
       "22           21        4.14  1619213872  \n",
       "62           15        9.84  1619213886  \n",
       "69            0        6.40  1619213889  \n",
       "79           20        4.34  1619213893  \n",
       "125           0        2.51  1619213909  \n",
       "158           3        2.48  1619213815  \n",
       "182           3        3.06  1619213930  \n",
       "204          14        6.60  1619213876  \n",
       "205           0        4.14  1619213940  \n",
       "235           0        6.91  1619213951  \n",
       "312           0        6.91  1619213980  \n",
       "341          20        2.30  1619213991  \n",
       "365           2        1.52  1619213708  \n",
       "377           3        4.21  1619214011  \n",
       "379          20        2.30  1619214012  \n",
       "398           0        9.22  1619214019  \n",
       "402          20        4.47  1619214021  \n",
       "405           2        0.65  1619214022  \n",
       "424           9        4.18  1619214031  \n",
       "430           1        3.44  1619214033  \n",
       "437           0        6.20  1619214035  \n",
       "451           7        7.58  1619213792  \n",
       "452          23        3.42  1619214040  \n",
       "483          21        9.28  1619214052  \n",
       "517           0        0.49  1619213858  \n",
       "536           0        4.14  1619214072  \n",
       "538           0        9.22  1619214073  \n",
       "539          19        9.10  1619214073  \n",
       "557           0        5.75  1619214080  \n",
       "568          20        3.44  1619214085  "
      ],
      "text/html": "<div>\n<style scoped>\n    .dataframe tbody tr th:only-of-type {\n        vertical-align: middle;\n    }\n\n    .dataframe tbody tr th {\n        vertical-align: top;\n    }\n\n    .dataframe thead th {\n        text-align: right;\n    }\n</style>\n<table border=\"1\" class=\"dataframe\">\n  <thead>\n    <tr style=\"text-align: right;\">\n      <th></th>\n      <th>City</th>\n      <th>Country</th>\n      <th>Lat</th>\n      <th>Lng</th>\n      <th>Max Temp</th>\n      <th>Humidity</th>\n      <th>Cloudiness</th>\n      <th>Wind Speed</th>\n      <th>Date</th>\n    </tr>\n  </thead>\n  <tbody>\n    <tr>\n      <th>6</th>\n      <td>Hong Kong</td>\n      <td>HK</td>\n      <td>22.2855</td>\n      <td>114.1577</td>\n      <td>78.01</td>\n      <td>87</td>\n      <td>20</td>\n      <td>3.00</td>\n      <td>1619213704</td>\n    </tr>\n    <tr>\n      <th>22</th>\n      <td>Sinjai</td>\n      <td>ID</td>\n      <td>-5.1241</td>\n      <td>120.2530</td>\n      <td>73.29</td>\n      <td>91</td>\n      <td>21</td>\n      <td>4.14</td>\n      <td>1619213872</td>\n    </tr>\n    <tr>\n      <th>62</th>\n      <td>Nova Viçosa</td>\n      <td>BR</td>\n      <td>-17.8919</td>\n      <td>-39.3719</td>\n      <td>75.56</td>\n      <td>82</td>\n      <td>15</td>\n      <td>9.84</td>\n      <td>1619213886</td>\n    </tr>\n    <tr>\n      <th>69</th>\n      <td>Morondava</td>\n      <td>MG</td>\n      <td>-20.2833</td>\n      <td>44.2833</td>\n      <td>75.09</td>\n      <td>82</td>\n      <td>0</td>\n      <td>6.40</td>\n      <td>1619213889</td>\n    </tr>\n    <tr>\n      <th>79</th>\n      <td>Mataram</td>\n      <td>ID</td>\n      <td>-8.5833</td>\n      <td>116.1167</td>\n      <td>73.40</td>\n      <td>94</td>\n      <td>20</td>\n      <td>4.34</td>\n      <td>1619213893</td>\n    </tr>\n    <tr>\n      <th>125</th>\n      <td>Najrān</td>\n      <td>SA</td>\n      <td>17.4924</td>\n      <td>44.1277</td>\n      <td>75.20</td>\n      <td>22</td>\n      <td>0</td>\n      <td>2.51</td>\n      <td>1619213909</td>\n    </tr>\n    <tr>\n      <th>158</th>\n      <td>Jardim</td>\n      <td>BR</td>\n      <td>-21.4803</td>\n      <td>-56.1381</td>\n      <td>79.20</td>\n      <td>41</td>\n      <td>3</td>\n      <td>2.48</td>\n      <td>1619213815</td>\n    </tr>\n    <tr>\n      <th>182</th>\n      <td>Dambulla</td>\n      <td>LK</td>\n      <td>7.8600</td>\n      <td>80.6517</td>\n      <td>73.17</td>\n      <td>88</td>\n      <td>3</td>\n      <td>3.06</td>\n      <td>1619213930</td>\n    </tr>\n    <tr>\n      <th>204</th>\n      <td>Abu Kamal</td>\n      <td>SY</td>\n      <td>34.4506</td>\n      <td>40.9171</td>\n      <td>75.85</td>\n      <td>17</td>\n      <td>14</td>\n      <td>6.60</td>\n      <td>1619213876</td>\n    </tr>\n    <tr>\n      <th>205</th>\n      <td>Dalbandin</td>\n      <td>PK</td>\n      <td>28.8947</td>\n      <td>64.4101</td>\n      <td>76.60</td>\n      <td>8</td>\n      <td>0</td>\n      <td>4.14</td>\n      <td>1619213940</td>\n    </tr>\n    <tr>\n      <th>235</th>\n      <td>Mar del Plata</td>\n      <td>AR</td>\n      <td>-38.0023</td>\n      <td>-57.5575</td>\n      <td>71.60</td>\n      <td>78</td>\n      <td>0</td>\n      <td>6.91</td>\n      <td>1619213951</td>\n    </tr>\n    <tr>\n      <th>312</th>\n      <td>Maceió</td>\n      <td>BR</td>\n      <td>-9.6658</td>\n      <td>-35.7353</td>\n      <td>78.80</td>\n      <td>83</td>\n      <td>0</td>\n      <td>6.91</td>\n      <td>1619213980</td>\n    </tr>\n    <tr>\n      <th>341</th>\n      <td>Kuliyapitiya</td>\n      <td>LK</td>\n      <td>7.4688</td>\n      <td>80.0401</td>\n      <td>78.80</td>\n      <td>94</td>\n      <td>20</td>\n      <td>2.30</td>\n      <td>1619213991</td>\n    </tr>\n    <tr>\n      <th>365</th>\n      <td>Kalmunai</td>\n      <td>LK</td>\n      <td>7.4167</td>\n      <td>81.8167</td>\n      <td>79.74</td>\n      <td>81</td>\n      <td>2</td>\n      <td>1.52</td>\n      <td>1619213708</td>\n    </tr>\n    <tr>\n      <th>377</th>\n      <td>Singaraja</td>\n      <td>ID</td>\n      <td>-8.1120</td>\n      <td>115.0882</td>\n      <td>76.60</td>\n      <td>70</td>\n      <td>3</td>\n      <td>4.21</td>\n      <td>1619214011</td>\n    </tr>\n    <tr>\n      <th>379</th>\n      <td>Kota Kinabalu</td>\n      <td>MY</td>\n      <td>5.9749</td>\n      <td>116.0724</td>\n      <td>77.00</td>\n      <td>94</td>\n      <td>20</td>\n      <td>2.30</td>\n      <td>1619214012</td>\n    </tr>\n    <tr>\n      <th>398</th>\n      <td>São João da Barra</td>\n      <td>BR</td>\n      <td>-21.6403</td>\n      <td>-41.0511</td>\n      <td>77.00</td>\n      <td>65</td>\n      <td>0</td>\n      <td>9.22</td>\n      <td>1619214019</td>\n    </tr>\n    <tr>\n      <th>402</th>\n      <td>Dayong</td>\n      <td>CN</td>\n      <td>25.0209</td>\n      <td>118.2898</td>\n      <td>71.60</td>\n      <td>73</td>\n      <td>20</td>\n      <td>4.47</td>\n      <td>1619214021</td>\n    </tr>\n    <tr>\n      <th>405</th>\n      <td>Itapirapuã</td>\n      <td>BR</td>\n      <td>-15.8233</td>\n      <td>-50.6133</td>\n      <td>72.05</td>\n      <td>51</td>\n      <td>2</td>\n      <td>0.65</td>\n      <td>1619214022</td>\n    </tr>\n    <tr>\n      <th>424</th>\n      <td>Pringsewu</td>\n      <td>ID</td>\n      <td>-5.3582</td>\n      <td>104.9744</td>\n      <td>71.65</td>\n      <td>95</td>\n      <td>9</td>\n      <td>4.18</td>\n      <td>1619214031</td>\n    </tr>\n    <tr>\n      <th>430</th>\n      <td>Vidalia</td>\n      <td>US</td>\n      <td>32.2177</td>\n      <td>-82.4135</td>\n      <td>73.40</td>\n      <td>27</td>\n      <td>1</td>\n      <td>3.44</td>\n      <td>1619214033</td>\n    </tr>\n    <tr>\n      <th>437</th>\n      <td>Bhakkar</td>\n      <td>PK</td>\n      <td>31.6253</td>\n      <td>71.0657</td>\n      <td>72.93</td>\n      <td>32</td>\n      <td>0</td>\n      <td>6.20</td>\n      <td>1619214035</td>\n    </tr>\n    <tr>\n      <th>451</th>\n      <td>São José da Coroa Grande</td>\n      <td>BR</td>\n      <td>-8.8978</td>\n      <td>-35.1478</td>\n      <td>78.98</td>\n      <td>79</td>\n      <td>7</td>\n      <td>7.58</td>\n      <td>1619213792</td>\n    </tr>\n    <tr>\n      <th>452</th>\n      <td>Madhubani</td>\n      <td>IN</td>\n      <td>26.3667</td>\n      <td>86.0833</td>\n      <td>78.30</td>\n      <td>23</td>\n      <td>23</td>\n      <td>3.42</td>\n      <td>1619214040</td>\n    </tr>\n    <tr>\n      <th>483</th>\n      <td>Beloha</td>\n      <td>MG</td>\n      <td>-25.1667</td>\n      <td>45.0500</td>\n      <td>70.34</td>\n      <td>76</td>\n      <td>21</td>\n      <td>9.28</td>\n      <td>1619214052</td>\n    </tr>\n    <tr>\n      <th>517</th>\n      <td>Nushki</td>\n      <td>PK</td>\n      <td>29.5542</td>\n      <td>66.0215</td>\n      <td>73.35</td>\n      <td>15</td>\n      <td>0</td>\n      <td>0.49</td>\n      <td>1619213858</td>\n    </tr>\n    <tr>\n      <th>536</th>\n      <td>Mossamedes</td>\n      <td>AO</td>\n      <td>-15.1961</td>\n      <td>12.1522</td>\n      <td>78.22</td>\n      <td>77</td>\n      <td>0</td>\n      <td>4.14</td>\n      <td>1619214072</td>\n    </tr>\n    <tr>\n      <th>538</th>\n      <td>Belmonte</td>\n      <td>BR</td>\n      <td>-15.8631</td>\n      <td>-38.8828</td>\n      <td>78.80</td>\n      <td>73</td>\n      <td>0</td>\n      <td>9.22</td>\n      <td>1619214073</td>\n    </tr>\n    <tr>\n      <th>539</th>\n      <td>Chilmāri</td>\n      <td>BD</td>\n      <td>25.5559</td>\n      <td>89.6715</td>\n      <td>77.74</td>\n      <td>35</td>\n      <td>19</td>\n      <td>9.10</td>\n      <td>1619214073</td>\n    </tr>\n    <tr>\n      <th>557</th>\n      <td>Tigre</td>\n      <td>AR</td>\n      <td>-34.4260</td>\n      <td>-58.5796</td>\n      <td>75.00</td>\n      <td>68</td>\n      <td>0</td>\n      <td>5.75</td>\n      <td>1619214080</td>\n    </tr>\n    <tr>\n      <th>568</th>\n      <td>Banjar</td>\n      <td>ID</td>\n      <td>-8.1900</td>\n      <td>114.9675</td>\n      <td>77.00</td>\n      <td>83</td>\n      <td>20</td>\n      <td>3.44</td>\n      <td>1619214085</td>\n    </tr>\n  </tbody>\n</table>\n</div>"
     },
     "metadata": {},
     "execution_count": 45
    }
   ],
   "source": [
    "ideal_df = weather_df.loc[(weather_df[\"Max Temp\"] < 80) & (weather_df[\"Max Temp\"] > 70)]\n",
    "ideal_df = ideal_df[ideal_df['Wind Speed'] < 10]\n",
    "ideal_df = ideal_df[ideal_df['Cloudiness'] <= 25]\n",
    "ideal_df.head(None)"
   ]
  },
  {
   "cell_type": "markdown",
   "metadata": {},
   "source": [
    "### Hotel Map\n",
    "* Store into variable named `hotel_df`.\n",
    "* Add a \"Hotel Name\" column to the DataFrame.\n",
    "* Set parameters to search for hotels with 5000 meters.\n",
    "* Hit the Google Places API for each city's coordinates.\n",
    "* Store the first Hotel result into the DataFrame.\n",
    "* Plot markers on top of the heatmap."
   ]
  },
  {
   "cell_type": "code",
   "execution_count": 51,
   "metadata": {},
   "outputs": [
    {
     "output_type": "stream",
     "name": "stdout",
     "text": [
      "22.2855,114.1577\n",
      "Retrieving Results for Index 6: Hong Kong.\n",
      "Closest hotel is Mini Hotel Central.\n",
      "------------\n",
      "-5.1241,120.253\n",
      "Retrieving Results for Index 22: Sinjai.\n",
      "Closest hotel is Wisma Sandika.\n",
      "------------\n",
      "-17.8919,-39.3719\n",
      "Retrieving Results for Index 62: Nova Viçosa.\n",
      "Closest hotel is Pousada Porto do Sol.\n",
      "------------\n",
      "-20.2833,44.2833\n",
      "Retrieving Results for Index 69: Morondava.\n",
      "Closest hotel is La Case Bambou.\n",
      "------------\n",
      "-8.5833,116.1167\n",
      "Retrieving Results for Index 79: Mataram.\n",
      "Closest hotel is Hotel Santika Mataram.\n",
      "------------\n",
      "17.4924,44.1277\n",
      "Retrieving Results for Index 125: Najrān.\n",
      "Closest hotel is محمد هادي ال فطيح.\n",
      "------------\n",
      "-21.4803,-56.1381\n",
      "Retrieving Results for Index 158: Jardim.\n",
      "Closest hotel is Estancia Hotel - Jardim MS.\n",
      "------------\n",
      "7.86,80.6517\n",
      "Retrieving Results for Index 182: Dambulla.\n",
      "Closest hotel is Tinaya Treats.\n",
      "------------\n",
      "34.4506,40.9171\n",
      "Retrieving Results for Index 204: Abu Kamal.\n",
      "Closest hotel is محطة التلفاز.\n",
      "------------\n",
      "28.8947,64.4101\n",
      "Retrieving Results for Index 205: Dalbandin.\n",
      "Closest hotel is Sanjrani House.\n",
      "------------\n",
      "-38.0023,-57.5575\n",
      "Retrieving Results for Index 235: Mar del Plata.\n",
      "Closest hotel is Gran Hotel Mar del Plata.\n",
      "------------\n",
      "-9.6658,-35.7353\n",
      "Retrieving Results for Index 312: Maceió.\n",
      "Closest hotel is Poutur Pousada.\n",
      "------------\n",
      "7.4688,80.0401\n",
      "Retrieving Results for Index 341: Kuliyapitiya.\n",
      "Closest hotel is Rest House.\n",
      "------------\n",
      "7.4167,81.8167\n",
      "Retrieving Results for Index 365: Kalmunai.\n",
      "Closest hotel is VS Villa.\n",
      "------------\n",
      "-8.112,115.0882\n",
      "Retrieving Results for Index 377: Singaraja.\n",
      "Closest hotel is Puri Bagus Lovina Resort.\n",
      "------------\n",
      "5.9749,116.0724\n",
      "Retrieving Results for Index 379: Kota Kinabalu.\n",
      "Closest hotel is Gaya Centre Hotel.\n",
      "------------\n",
      "-21.6403,-41.0511\n",
      "Retrieving Results for Index 398: São João da Barra.\n",
      "Closest hotel is Pousada Porto De Canoas.\n",
      "------------\n",
      "25.0209,118.2898\n",
      "Retrieving Results for Index 402: Dayong.\n",
      "Closest hotel is Haiyue Express Hotel.\n",
      "------------\n",
      "-15.8233,-50.6133\n",
      "Retrieving Results for Index 405: Itapirapuã.\n",
      "Closest hotel is Hotel Nossa Senhora Aparecida.\n",
      "------------\n",
      "-5.3582,104.9744\n",
      "Retrieving Results for Index 424: Pringsewu.\n",
      "Closest hotel is Urban Style by Front One.\n",
      "------------\n",
      "32.2177,-82.4135\n",
      "Retrieving Results for Index 430: Vidalia.\n",
      "Closest hotel is Quality Inn & Suites.\n",
      "------------\n",
      "31.6253,71.0657\n",
      "Retrieving Results for Index 437: Bhakkar.\n",
      "Closest hotel is Gorcha Nashaib.\n",
      "------------\n",
      "-8.8978,-35.1478\n",
      "Retrieving Results for Index 451: São José da Coroa Grande.\n",
      "Closest hotel is Crôa Mares Hotel.\n",
      "------------\n",
      "26.3667,86.0833\n",
      "Retrieving Results for Index 452: Madhubani.\n",
      "Closest hotel is Hotel Raj Vilas.\n",
      "------------\n",
      "-25.1667,45.05\n",
      "Retrieving Results for Index 483: Beloha.\n",
      "Missing field/result... skipping.\n",
      "------------\n",
      "29.5542,66.0215\n",
      "Retrieving Results for Index 517: Nushki.\n",
      "Closest hotel is Jahangir Hotel Noshki.\n",
      "------------\n",
      "-15.1961,12.1522\n",
      "Retrieving Results for Index 536: Mossamedes.\n",
      "Closest hotel is Hotel Chik Chik Namibe.\n",
      "------------\n",
      "-15.8631,-38.8828\n",
      "Retrieving Results for Index 538: Belmonte.\n",
      "Closest hotel is Pousada Monte Carmelo O Pão.\n",
      "------------\n",
      "25.5559,89.6715\n",
      "Retrieving Results for Index 539: Chilmāri.\n",
      "Closest hotel is Mahi telecom.\n",
      "------------\n",
      "-34.426,-58.5796\n",
      "Retrieving Results for Index 557: Tigre.\n",
      "Closest hotel is Puerto Delta Apartamentos.\n",
      "------------\n",
      "-8.19,114.9675\n",
      "Retrieving Results for Index 568: Banjar.\n",
      "Closest hotel is The Hamsa Resort.\n",
      "------------\n"
     ]
    }
   ],
   "source": [
    "hotel_df = ideal_df\n",
    "base_url = \"https://maps.googleapis.com/maps/api/place/nearbysearch/json\"\n",
    "params = {\n",
    "    \"radius\" : 5000,\n",
    "    \"type\": \"lodging\",\n",
    "    \"key\" : g_key\n",
    "}\n",
    "\n",
    "for index, row in hotel_df.iterrows():\n",
    "    lat = row['Lat']\n",
    "    lng = row['Lng']\n",
    "    # add keyword to params dict\n",
    "    params[\"location\"] = f\"{lat},{lng}\"\n",
    "    print(params[\"location\"])\n",
    "    # assemble url and make API request\n",
    "    print(f\"Retrieving Results for Index {index}: {row['City']}.\")\n",
    "    response = requests.get(base_url, params=params).json()\n",
    "    # extract results\n",
    "    results = response['results']\n",
    "    try:\n",
    "        print(f\"Closest hotel is {results[0]['name']}.\")\n",
    "        hotel_df.loc[index, 'Hotel Name'] = results[0]['name']\n",
    "        \n",
    "    except (KeyError, IndexError):\n",
    "        print(\"Missing field/result... skipping.\")\n",
    "        \n",
    "    print(\"------------\")\n"
   ]
  },
  {
   "cell_type": "code",
   "execution_count": 53,
   "metadata": {},
   "outputs": [
    {
     "output_type": "execute_result",
     "data": {
      "text/plain": [
       "           City Country      Lat       Lng  Max Temp  Humidity  Cloudiness  \\\n",
       "6     Hong Kong      HK  22.2855  114.1577     78.01        87          20   \n",
       "22       Sinjai      ID  -5.1241  120.2530     73.29        91          21   \n",
       "62  Nova Viçosa      BR -17.8919  -39.3719     75.56        82          15   \n",
       "69    Morondava      MG -20.2833   44.2833     75.09        82           0   \n",
       "79      Mataram      ID  -8.5833  116.1167     73.40        94          20   \n",
       "\n",
       "    Wind Speed        Date             Hotel Name  \n",
       "6         3.00  1619213704     Mini Hotel Central  \n",
       "22        4.14  1619213872          Wisma Sandika  \n",
       "62        9.84  1619213886   Pousada Porto do Sol  \n",
       "69        6.40  1619213889         La Case Bambou  \n",
       "79        4.34  1619213893  Hotel Santika Mataram  "
      ],
      "text/html": "<div>\n<style scoped>\n    .dataframe tbody tr th:only-of-type {\n        vertical-align: middle;\n    }\n\n    .dataframe tbody tr th {\n        vertical-align: top;\n    }\n\n    .dataframe thead th {\n        text-align: right;\n    }\n</style>\n<table border=\"1\" class=\"dataframe\">\n  <thead>\n    <tr style=\"text-align: right;\">\n      <th></th>\n      <th>City</th>\n      <th>Country</th>\n      <th>Lat</th>\n      <th>Lng</th>\n      <th>Max Temp</th>\n      <th>Humidity</th>\n      <th>Cloudiness</th>\n      <th>Wind Speed</th>\n      <th>Date</th>\n      <th>Hotel Name</th>\n    </tr>\n  </thead>\n  <tbody>\n    <tr>\n      <th>6</th>\n      <td>Hong Kong</td>\n      <td>HK</td>\n      <td>22.2855</td>\n      <td>114.1577</td>\n      <td>78.01</td>\n      <td>87</td>\n      <td>20</td>\n      <td>3.00</td>\n      <td>1619213704</td>\n      <td>Mini Hotel Central</td>\n    </tr>\n    <tr>\n      <th>22</th>\n      <td>Sinjai</td>\n      <td>ID</td>\n      <td>-5.1241</td>\n      <td>120.2530</td>\n      <td>73.29</td>\n      <td>91</td>\n      <td>21</td>\n      <td>4.14</td>\n      <td>1619213872</td>\n      <td>Wisma Sandika</td>\n    </tr>\n    <tr>\n      <th>62</th>\n      <td>Nova Viçosa</td>\n      <td>BR</td>\n      <td>-17.8919</td>\n      <td>-39.3719</td>\n      <td>75.56</td>\n      <td>82</td>\n      <td>15</td>\n      <td>9.84</td>\n      <td>1619213886</td>\n      <td>Pousada Porto do Sol</td>\n    </tr>\n    <tr>\n      <th>69</th>\n      <td>Morondava</td>\n      <td>MG</td>\n      <td>-20.2833</td>\n      <td>44.2833</td>\n      <td>75.09</td>\n      <td>82</td>\n      <td>0</td>\n      <td>6.40</td>\n      <td>1619213889</td>\n      <td>La Case Bambou</td>\n    </tr>\n    <tr>\n      <th>79</th>\n      <td>Mataram</td>\n      <td>ID</td>\n      <td>-8.5833</td>\n      <td>116.1167</td>\n      <td>73.40</td>\n      <td>94</td>\n      <td>20</td>\n      <td>4.34</td>\n      <td>1619213893</td>\n      <td>Hotel Santika Mataram</td>\n    </tr>\n  </tbody>\n</table>\n</div>"
     },
     "metadata": {},
     "execution_count": 53
    }
   ],
   "source": [
    "hotel_df.head()"
   ]
  },
  {
   "cell_type": "code",
   "execution_count": 52,
   "metadata": {},
   "outputs": [],
   "source": [
    "# NOTE: Do not change any of the code in this cell\n",
    "\n",
    "# Using the template add the hotel marks to the heatmap\n",
    "info_box_template = \"\"\"\n",
    "<dl>\n",
    "<dt>Name</dt><dd>{Hotel Name}</dd>\n",
    "<dt>City</dt><dd>{City}</dd>\n",
    "<dt>Country</dt><dd>{Country}</dd>\n",
    "</dl>\n",
    "\"\"\"\n",
    "# Store the DataFrame Row\n",
    "# NOTE: be sure to update with your DataFrame name\n",
    "hotel_info = [info_box_template.format(**row) for index, row in hotel_df.iterrows()]\n",
    "locations = hotel_df[[\"Lat\", \"Lng\"]]"
   ]
  },
  {
   "cell_type": "code",
   "execution_count": 56,
   "metadata": {},
   "outputs": [
    {
     "output_type": "display_data",
     "data": {
      "text/plain": "Figure(layout=FigureLayout(height='420px'))",
      "application/vnd.jupyter.widget-view+json": {
       "version_major": 2,
       "version_minor": 0,
       "model_id": "96b3acf7f51f4be3a163c8f8b2f3c826"
      }
     },
     "metadata": {}
    }
   ],
   "source": [
    "# Add marker layer ontop of heat map\n",
    "fig = gmaps.figure()\n",
    "markers = gmaps.marker_layer(locations, info_box_content=hotel_info)\n",
    "fig.add_layer(markers)\n",
    "\n",
    "\n",
    "# Display figure\n",
    "fig"
   ]
  },
  {
   "cell_type": "code",
   "execution_count": null,
   "metadata": {},
   "outputs": [],
   "source": []
  }
 ],
 "metadata": {
  "kernelspec": {
   "name": "python385jvsc74a57bd06a262ddcb5f1da0e4fa74e20e93c8f5a5c260b7f3cec5f023a72d50d0a06227c",
   "display_name": "Python 3.8.5 64-bit ('Tang': virtualenv)"
  },
  "language_info": {
   "codemirror_mode": {
    "name": "ipython",
    "version": 3
   },
   "file_extension": ".py",
   "mimetype": "text/x-python",
   "name": "python",
   "nbconvert_exporter": "python",
   "pygments_lexer": "ipython3",
   "version": "3.8.5-final"
  },
  "latex_envs": {
   "LaTeX_envs_menu_present": true,
   "autoclose": false,
   "autocomplete": true,
   "bibliofile": "biblio.bib",
   "cite_by": "apalike",
   "current_citInitial": 1,
   "eqLabelWithNumbers": true,
   "eqNumInitial": 1,
   "hotkeys": {
    "equation": "Ctrl-E",
    "itemize": "Ctrl-I"
   },
   "labels_anchors": false,
   "latex_user_defs": false,
   "report_style_numbering": false,
   "user_envs_cfg": false
  }
 },
 "nbformat": 4,
 "nbformat_minor": 4
}